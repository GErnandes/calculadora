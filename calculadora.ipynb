{
 "cells": [
  {
   "cell_type": "code",
   "execution_count": 1,
   "metadata": {},
   "outputs": [
    {
     "name": "stdout",
     "output_type": "stream",
     "text": [
      "------------------------------------------------------------\n",
      "MENU DE OPERAÇÕES\n",
      "   1 - Somar\n",
      "   2 - Subtrair\n",
      "   3 - Multiplicação\n",
      "   4 - Divisão\n",
      "   5 - Potencialização\n",
      "   0 - Sair\n",
      "  \n",
      "O resultado da subtração do número 10 e 2 é 8\n",
      "------------------------------------------------------------\n",
      "MENU DE OPERAÇÕES\n",
      "   1 - Somar\n",
      "   2 - Subtrair\n",
      "   3 - Multiplicação\n",
      "   4 - Divisão\n",
      "   5 - Potencialização\n",
      "   0 - Sair\n",
      "  \n",
      "ENCERRADO, você saiu da calculadora\n"
     ]
    }
   ],
   "source": [
    "def soma(n1, n2):\n",
    "    return n1 + n2\n",
    "def subtrai(n1,n2):\n",
    "    return n1 - n2\n",
    "def multiplica(n1,n2):\n",
    "    return n1 * n2\n",
    "def divide(n1,n2):\n",
    "    return n1 / n2\n",
    "def potencia(n1,n2):\n",
    "    return n1 ** n2\n",
    "\n",
    "while True:\n",
    "    print('--' *30)\n",
    "    print('MENU DE OPERAÇÕES')\n",
    "    print('   1 - Somar')\n",
    "    print('   2 - Subtrair')\n",
    "    print('   3 - Multiplicação')\n",
    "    print('   4 - Divisão')\n",
    "    print('   5 - Potencialização')\n",
    "    print('   0 - Sair')\n",
    "    print('  ')    \n",
    "    op = int(input('Digite a operação desejada: '))\n",
    "    while op not in [0,1,2,3,4,5]:\n",
    "        op = int(input('Operação inválida, digite a operação desejada novamente: '))\n",
    "    if op == 0:\n",
    "        print('ENCERRADO, você saiu da calculadora')\n",
    "        break\n",
    "    n1 = int(input('Digite o primeiro número: '))\n",
    "    n2 = int(input('Digite o segundo número: '))\n",
    "    if op == 1:\n",
    "        operação = 'soma'\n",
    "        resultado = soma(n1,n2)\n",
    "    elif op == 2:\n",
    "        operação = 'subtração'\n",
    "        resultado = subtrai(n1,n2)\n",
    "    elif op == 3:\n",
    "        operação = 'multiplicação'\n",
    "        resultado = multiplica(n1,n2)\n",
    "    elif op == 4:\n",
    "        operação = 'divisão'\n",
    "        resultado = divide(n1,n2)\n",
    "    elif op == 5:\n",
    "        operação = 'potencialização'\n",
    "        resultado = potencia(n1,n2)\n",
    "    print(f'O resultado da {operação} dos números {n1} e {n2} é {resultado}')"
   ]
  }
 ],
 "metadata": {
  "kernelspec": {
   "display_name": "Python 3",
   "language": "python",
   "name": "python3"
  },
  "language_info": {
   "codemirror_mode": {
    "name": "ipython",
    "version": 3
   },
   "file_extension": ".py",
   "mimetype": "text/x-python",
   "name": "python",
   "nbconvert_exporter": "python",
   "pygments_lexer": "ipython3",
   "version": "3.11.9"
  }
 },
 "nbformat": 4,
 "nbformat_minor": 2
}
